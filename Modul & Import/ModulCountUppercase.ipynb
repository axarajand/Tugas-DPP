{
 "cells": [
  {
   "cell_type": "code",
   "execution_count": null,
   "id": "2d759d84",
   "metadata": {},
   "outputs": [],
   "source": [
    "def upperCase(string) : \n",
    "    upper=0\n",
    "    for i in string:\n",
    "          if(i.isUpper()) :\n",
    "                upper+=1\n",
    "    return upper"
   ]
  }
 ],
 "metadata": {
  "kernelspec": {
   "display_name": "Python 3 (ipykernel)",
   "language": "python",
   "name": "python3"
  },
  "language_info": {
   "codemirror_mode": {
    "name": "ipython",
    "version": 3
   },
   "file_extension": ".py",
   "mimetype": "text/x-python",
   "name": "python",
   "nbconvert_exporter": "python",
   "pygments_lexer": "ipython3",
   "version": "3.11.1"
  }
 },
 "nbformat": 4,
 "nbformat_minor": 5
}
