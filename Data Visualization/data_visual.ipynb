{
 "cells": [
  {
   "cell_type": "code",
   "execution_count": null,
   "id": "a4e62bb2",
   "metadata": {},
   "outputs": [],
   "source": [
    "import matplotlib.pyplot as p\n",
    "import pandas as pd\n",
    "\n",
    "# Data Mobil\n",
    "data_mobil = pd.read_scv(\"data_mobil.csv\")\n",
    "p.hist(data_mobil[\"harga_juta\"])\n",
    "\n",
    "# Data Siswa\n",
    "data_siswa = pd.read_csv(\"data_siswa_unp.csv\")\n",
    "jumlah = data_siswa[\"Jumlah\"]\n",
    "Jurusan = data_siswa[\"Jurusan\"]\n",
    "p.pie(jumlah, labels = jurusan)"
   ]
  },
  {
   "cell_type": "code",
   "execution_count": null,
   "id": "7c605452",
   "metadata": {},
   "outputs": [],
   "source": []
  }
 ],
 "metadata": {
  "kernelspec": {
   "display_name": "Python 3 (ipykernel)",
   "language": "python",
   "name": "python3"
  },
  "language_info": {
   "codemirror_mode": {
    "name": "ipython",
    "version": 3
   },
   "file_extension": ".py",
   "mimetype": "text/x-python",
   "name": "python",
   "nbconvert_exporter": "python",
   "pygments_lexer": "ipython3",
   "version": "3.11.1"
  }
 },
 "nbformat": 4,
 "nbformat_minor": 5
}
